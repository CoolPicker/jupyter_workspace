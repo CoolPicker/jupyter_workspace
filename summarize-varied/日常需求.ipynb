{
 "cells": [
  {
   "cell_type": "markdown",
   "metadata": {},
   "source": [
    "# 日常需求\n",
    "工作期间所接受和经历的工作需求，加以方法论和工程实现总结，总纲，后续完善子类目。"
   ]
  },
  {
   "cell_type": "markdown",
   "metadata": {},
   "source": [
    "## 小视频去重\n",
    "dhash28+dhash64，建桶，分层过滤"
   ]
  },
  {
   "cell_type": "markdown",
   "metadata": {},
   "source": [
    "## 表情联想\n",
    "输入内容分词，获取关键词，返回对应标签，标签对应多关键字，关键字对应cdn表情，运控平台管理表情包的更新与迭代。\n",
    "### 日均千万级访问量，负载均衡+并发安全\n",
    "### 实现思路"
   ]
  },
  {
   "cell_type": "markdown",
   "metadata": {},
   "source": [
    "## zmoji表情合成\n",
    "人脸识别+表情合成，采用UI制作人脸与表情组件，识别、区分、管理、调度组件合成对应的人脸，以及相应场景表情的制作\n",
    "### 日均百万级访问量，缓存策略 + opencv + Face++人脸关键点"
   ]
  },
  {
   "cell_type": "markdown",
   "metadata": {},
   "source": [
    "## zmoji表情合成整合表情联想\n",
    "Android端调用人脸合成，对应组件来自cdn；上屏输入走表情联想获取关键词，关键词-表情-场景关键词，两层一对多适配对应的emojiIds；制作的表情归并原表情联想结果集"
   ]
  },
  {
   "cell_type": "code",
   "execution_count": null,
   "metadata": {},
   "outputs": [],
   "source": []
  }
 ],
 "metadata": {
  "kernelspec": {
   "display_name": "Python 3",
   "language": "python",
   "name": "python3"
  },
  "language_info": {
   "codemirror_mode": {
    "name": "ipython",
    "version": 3
   },
   "file_extension": ".py",
   "mimetype": "text/x-python",
   "name": "python",
   "nbconvert_exporter": "python",
   "pygments_lexer": "ipython3",
   "version": "3.7.5"
  }
 },
 "nbformat": 4,
 "nbformat_minor": 2
}

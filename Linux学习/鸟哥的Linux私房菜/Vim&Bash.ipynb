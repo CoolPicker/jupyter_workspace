{
 "cells": [
  {
   "cell_type": "markdown",
   "metadata": {},
   "source": [
    "# Vim程序编辑器  \n",
    "基本上vi分为三种模式:  \n",
    "* 一般指令模式(command mode)\n",
    "    * Ctrl + f : Page Down\n",
    "    * Ctrl + b : Page Up\n",
    "    * Ctrl + d : 向下半页\n",
    "    * Ctrl + u : 向上半页\n",
    "    * G        : last line\n",
    "    * gg       : first line\n",
    "    * x,X      : 向后/向前删除一字符\n",
    "    * dd       : 删除当前行\n",
    "    * ndd      : 删除当前行下n行\n",
    "    * yy       : 复制当前行\n",
    "    * nyy      : 复制当前行下n行\n",
    "    * p,P      : 粘贴当前行下一列,上一列\n",
    "    * u        : 回退\n",
    "    * Ctrl + r : 重做\n",
    "    * .        : 重复前一动作\n",
    "* 编辑模式(insert mode) -- (i,I,o,O,a,A,r,R)\n",
    "* 命令行命令模式(command-line mode) -- (:/?)\n",
    "    * :! command        : 暂时离开执行命令\n",
    "    * :w filename       : 编辑的数据转储到filename这个文件\n",
    "    * :r filename       : 将filename文件内容写入当前行后\n",
    "    * :n1,n2 w filename : 将n1到n2的内容存储到filename文件\n",
    "    * :set nu           : 显示行号\n",
    "    * :set nonu         : 取消行号"
   ]
  },
  {
   "cell_type": "markdown",
   "metadata": {},
   "source": [
    "# Bash - Shell  \n",
    "## 变量的设置规则\n",
    "* 变量与变量内容以一个等号\"=\"来连接;\n",
    "* 等号两遍不能直接接空白字符;\n",
    "* 变量名称只能是英文字母与数字,且开头字符不能是数字;\n",
    "* 变量内容若有空白字符,可使用引号将变量结合起来\n",
    "    * 双引号内的特殊字符如\"\\$\"等可以保有原本的特性\n",
    "    * 单引号内的特殊字符则仅为一般字符(纯文本)\n",
    "* 可用转义字符\"\\\\\"将特殊字符变成一般字符\n",
    "* 获取其它额外指令的返回结果,可使用\"command\"或$(command)的形式获取\n",
    "* 变量追加内容,可用\"\\$变量\"累加内容\n",
    "* 以 export 来使变量变成环境变量\n",
    "* 取消变量的方法为使用 unset  \n",
    "!['shell init'](https://wx1.sinaimg.cn/large/006N2sNAgy1ga39gfaip7j30gu0493z1.jpg 'login shell config')"
   ]
  },
  {
   "cell_type": "markdown",
   "metadata": {},
   "source": [
    "bash wildcard 字符, 常用作字符串过滤:  \n",
    "\n",
    "|符号|意义|\n",
    "|:-----:|:-------|\n",
    "| * | 代表“0个到无穷多个”任意字符 |\n",
    "| ? | 代表“一定有一个”任意字符 |\n",
    "| \\[\\] | 同样代表“一定有一个在括号内”的字符(非任意字符) |\n",
    "| \\[-\\] | 若有减号在中括号内时,代表“在编码顺序内的所有字符”<br>例如\\[0-9\\]代表0到9之间的所有数字,因为数字的语系编码是连续的 |\n",
    "| \\[^\\] | 若中括号内的第一个字符为指数符号(^),那表示“反向选择”,例如\\[^abc\\]代表一定<br>有一个字符,只要是非a,b,c的其他字符就接受的意思 |"
   ]
  },
  {
   "cell_type": "markdown",
   "metadata": {},
   "source": [
    "bash环境下特殊字符:  \n",
    "\n",
    "| 符号 | 内容 |\n",
    "| :---: | :---- |\n",
    "| # | 注释 |\n",
    "| \\ | 转义 |\n",
    "| | | 管道 pipe |\n",
    "| ; | 连续指令分割 |\n",
    "| ~ | 主文件夹 |\n",
    "| $ | 取用变量 |\n",
    "| & | 后台执行 |\n",
    "| ! | 逻辑运算意义上的非 |\n",
    "| / | 目录符号 |\n",
    "| >,>> | 重定向输入 |\n",
    "| <,<< | 重定向输出 |\n",
    "| '' | 不具有变量置换功能 |\n",
    "| \"\" | 具有变量置换功能 |\n",
    "| () | 子shell的起止 |\n",
    "| {} | 在中间为命令区块的组合 |"
   ]
  }
 ],
 "metadata": {
  "kernelspec": {
   "display_name": "Python 3",
   "language": "python",
   "name": "python3"
  },
  "language_info": {
   "codemirror_mode": {
    "name": "ipython",
    "version": 3
   },
   "file_extension": ".py",
   "mimetype": "text/x-python",
   "name": "python",
   "nbconvert_exporter": "python",
   "pygments_lexer": "ipython3",
   "version": "3.7.5"
  }
 },
 "nbformat": 4,
 "nbformat_minor": 2
}

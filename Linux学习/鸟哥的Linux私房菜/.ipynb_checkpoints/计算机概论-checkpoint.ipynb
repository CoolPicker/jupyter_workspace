{
 "cells": [
  {
   "cell_type": "markdown",
   "metadata": {},
   "source": [
    "## 计算机相关\n",
    "<p>\n",
    "    电脑，一般即x86的个人电脑架构。\n",
    "<p>\n",
    "    CMOS主要的功能为记录主板上面的重要参数，包括系统时间、CPU电压和频率、各项设备的I/O地址与IRQ等。<br>\n",
    "    BIOS为写入到主板上某一块flash或EEPROM的程序，可以在开机的时候执行，以载入CMOS当中的参数，并尝试调用储存设备中的开机程序，进一步进入操作系统当中。<br>\n",
    "<p>\n",
    "    操作系统核心(Kernel)，管理电脑的所有活动以及驱动系统中的所有硬件。<br>\n",
    "    系统调用(System Call)，硬件-核心，软件-调用开发接口-完成具体实现。<br>\n",
    "    操作系统核心功能：<br>\n",
    "        &emsp;&emsp;1.系统调用接口(System Call Interface)<br>\n",
    "        &emsp;&emsp;2.程序管理(Process Control)<br>\n",
    "        &emsp;&emsp;3.内存管理(Memory Management)<br>\n",
    "        &emsp;&emsp;4.文件系统管理(Filesystem Management)<br>\n",
    "        &emsp;&emsp;5.设备的驱动(Device Drivers)<br>\n",
    "<p>"
   ]
  },
  {
   "cell_type": "markdown",
   "metadata": {},
   "source": [
    "## Linux学习思路\n",
    "Richard Mathew Stallman - GNU(GNU's Not Unix)创始人，C语言编译器-GNU C Compiler-gcc-的开发者。<br>GNU-General Public License-GPL-通用公共许可证(保护GNU自由软件不被利用而成为专利软件)。<br>GNU早期重要软件：Emacs、GCC、GLIBC、Bash Shell。\n",
    "<p>\n",
    "GPL - Free - By Stallman<br>\n",
    "    &emsp;&emsp;\"Free Software\" is a matter of liberty, not price. To understand the concept, you should think of \"free speech\", not \"free beer\". \"Free Software\" refers to the user's freedom to run, copy, distribute, study, change, and improve the software.\n",
    "<p>\n",
    "<p>\n",
    "    Linux Distributions主要分为两大系统，一种是使用RPM方式安装软件的系统，包括Red Hat，Fedora，SuSE等；一种则是使用Debian的dpkg方式安装软件的系统，包括Debian，Ubuntu，B2D等。\n",
    "<p>    "
   ]
  },
  {
   "cell_type": "markdown",
   "metadata": {},
   "source": [
    "  ~ | RPM软件管理 | DPKG软件管理 | 其它未分类\n",
    "---|--- | --- | ---\n",
    "商业公司 | RHEL(Red Hat) SuSE(Micro Focus) | Ubuntu(Canonical Ltd.) |  |  \n",
    "社群单位 | Fodora CentOS OpenSuSE | Debian B2D | Gentoo"
   ]
  },
  {
   "cell_type": "markdown",
   "metadata": {},
   "source": []
  }
 ],
 "metadata": {
  "kernelspec": {
   "display_name": "Python 3",
   "language": "python",
   "name": "python3"
  },
  "language_info": {
   "codemirror_mode": {
    "name": "ipython",
    "version": 3
   },
   "file_extension": ".py",
   "mimetype": "text/x-python",
   "name": "python",
   "nbconvert_exporter": "python",
   "pygments_lexer": "ipython3",
   "version": "3.7.5"
  }
 },
 "nbformat": 4,
 "nbformat_minor": 2
}

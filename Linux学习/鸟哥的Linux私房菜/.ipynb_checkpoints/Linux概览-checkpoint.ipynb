{
 "cells": [
  {
   "cell_type": "markdown",
   "metadata": {},
   "source": [
    "## Linux与硬盘\n",
    "设备 | 设备在Linux的文件名\n",
    "--- | ---\n",
    "SCSI/SATA/USB硬盘 | /dev/sd[a-p]\n",
    "USB闪存盘 | /dev/sd[a-p]\n",
    "Virtl/O界面 | /dev/vd[a-p]（用于虚拟机内）\n",
    "软盘 | /dev/fd[0-7]\n",
    "打印机 | /dev/lp[0-2]\n",
    "鼠标 | /dev/input/mouse[0-15]\n",
    "CDROM/DVDROM | /dev/scd[0-1] /dev/sr[0-1]\n",
    "磁带机 | /dev/ht0 /dev/st0 /dev/tape\n",
    "IDE硬盘机 | /dev/hd[a-d]"
   ]
  },
  {
   "cell_type": "markdown",
   "metadata": {},
   "source": [
    "## 磁盘分区\n",
    "\n",
    "整个开机流程到操作系统之前的操作如下:  \n",
    "1. BIOS: 开机主动执行的固件,会认识第一个可开机的设备\n",
    "2. MBR: 第一个可开机设备的第一个扇区内的主要开机记录区块,内含开机管理程序\n",
    "3. 开机管理程序(boot loader): 一支可读取核心文件来执行的软件\n",
    "4. 核心文件: 开始操作系统的功能\n",
    "\n",
    "Boot Loader是操作系统安装在MBR上面的一套软件,主要任务包括如下:  \n",
    "* 提供菜单: 使用者可以选择不同的开机项目,这也是多重开机的重要功能\n",
    "* 载入核心文件: 直接指向可开机的程序区段来开始操作系统\n",
    "* 转交其他loader: 将开机管理功能转交给其他loader负责\n",
    "\n",
    "BIOS与UEFI的差异对比:  \n",
    "\n",
    "|比较项目|BIOS|UEFI|\n",
    "|:---:|:---|:---|\n",
    "|使用程序语言|组合语言|C语言|\n",
    "|硬件资源控制|使用中断(IRQ)管理不可变的内存存取<br>不可变的输入/输出存取|使用驱动程序与协定|\n",
    "|处理器运行环境|16位|CPU保护模式|\n",
    "|扩充方式|通过IRQ链接|直接载入驱动程序|\n",
    "|第三方厂商支持|较差|较佳且可支持多平台|\n",
    "|图形化能力|较差|较佳|\n",
    "|内置简化操作系统前环境|不支持|支持|\n",
    "\n",
    "Linux下磁盘分区的选择:  \n",
    "* 目录树结构(directory tree)\n",
    "* 文件系统与目录树的关系(挂载 - mount)  \n",
    "    所谓的挂载就是利用一个目录当成进入点,将磁盘分区的数据放置在该目录下;即,进入该目录就可以读取该分区的意思.这个动作称为挂载,那个进入点的目录称为挂载点."
   ]
  },
  {
   "cell_type": "markdown",
   "metadata": {},
   "source": [
    "## Linux命令应知应会\n",
    "命令示例:  \n",
    "```bash\n",
    "lab@lab $ command [-options] parameter1 parameter2 ...\n",
    "        # 命令      选项       参数一      参数二\n",
    "```\n",
    "\n",
    "详细说明:\n",
    "1. 一行指令中第一个输入为命令\n",
    "2. command为指令的名称\n",
    "3. 选项设置时,通常选项前会带 - 号,例如 -h;<br>有时使用选项的完整全名,则带有 -- 符号,例如 --help\n",
    "4. parameter1 parameter2 为依附在选项后的参数,或者是command的参数\n",
    "5. 不同的参数之间以空格来区分\n",
    "6. 按下回车即执行\n",
    "7. 指令太长,可用 \\ 反斜线来回车换行  \n",
    "\n",
    "\n",
    "* Tab - 自动补全\n",
    "* Ctrl+c - 中断\n",
    "* Ctrl+d - exit  "
   ]
  }
 ],
 "metadata": {
  "kernelspec": {
   "display_name": "Python 3",
   "language": "python",
   "name": "python3"
  },
  "language_info": {
   "codemirror_mode": {
    "name": "ipython",
    "version": 3
   },
   "file_extension": ".py",
   "mimetype": "text/x-python",
   "name": "python",
   "nbconvert_exporter": "python",
   "pygments_lexer": "ipython3",
   "version": "3.7.5"
  }
 },
 "nbformat": 4,
 "nbformat_minor": 2
}

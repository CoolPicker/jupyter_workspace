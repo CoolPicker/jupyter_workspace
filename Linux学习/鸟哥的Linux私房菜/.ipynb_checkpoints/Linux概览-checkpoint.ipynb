{
 "cells": [
  {
   "cell_type": "markdown",
   "metadata": {},
   "source": [
    "## Linux与硬盘\n",
    "设备 | 设备在Linux的文件名\n",
    "--- | ---\n",
    "SCSI/SATA/USB硬盘 | /dev/sd[a-p]\n",
    "USB闪存盘 | /dev/sd[a-p]\n",
    "Virtl/O界面 | /dev/vd[a-p]（用于虚拟机内）\n",
    "软盘 | /dev/fd[0-7]\n",
    "打印机 | /dev/lp[0-2]\n",
    "鼠标 | /dev/input/mouse[0-15]\n",
    "CDROM/DVDROM | /dev/scd[0-1] /dev/sr[0-1]\n",
    "磁带机 | /dev/ht0 /dev/st0 /dev/tape\n",
    "IDE硬盘机 | /dev/hd[a-d]"
   ]
  },
  {
   "cell_type": "markdown",
   "metadata": {},
   "source": [
    "## 磁盘分区\n",
    "\n"
   ]
  },
  {
   "cell_type": "code",
   "execution_count": null,
   "metadata": {},
   "outputs": [],
   "source": []
  }
 ],
 "metadata": {
  "kernelspec": {
   "display_name": "Python 3",
   "language": "python",
   "name": "python3"
  },
  "language_info": {
   "codemirror_mode": {
    "name": "ipython",
    "version": 3
   },
   "file_extension": ".py",
   "mimetype": "text/x-python",
   "name": "python",
   "nbconvert_exporter": "python",
   "pygments_lexer": "ipython3",
   "version": "3.7.5"
  }
 },
 "nbformat": 4,
 "nbformat_minor": 2
}

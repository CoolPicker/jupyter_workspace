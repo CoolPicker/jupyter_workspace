{
 "cells": [
  {
   "cell_type": "markdown",
   "metadata": {},
   "source": [
    "# job control 工作管理\n",
    "* 后台执行 -- &\n",
    "* 暂停当前工作 -- Ctrl + z\n",
    "* 观察后台工作状态 -- jobs\n",
    "```\n",
    "# jobs [-lrs]\n",
    "选项与参数:\n",
    "-l:除了列出job number与命令串之外,同时列出PID的号码\n",
    "-r:仅列出正在后台running的工作\n",
    "-s:仅列出正在后台暂停stopped的工作\n",
    "```  \n",
    "* 后台工作转置前台处理 -- fg\n",
    "> fg %jobnumber\n",
    "> %jobnumber 注意为工作编码,非PID\n",
    "* 让工作在后台的状态转置为运行中 -- bg\n",
    "> bg %jobnumber\n",
    "* 管理后台运行的工作 -- kill\n",
    "> -1 : 重新读取一次参数的配置文件 类似reload <br>\n",
    "> -2 : 代表与键盘输入Ctrl+c 同样的动作 <br>\n",
    "> -9 : 立即强制删除一个工作 <br>\n",
    "> -15 : 以正常的程序方式终止进程 <br>\n",
    "> -signal : 具体进程管理\n",
    ">> SIGHUP :　重启 <br>\n",
    ">> SIGINT : Ctrl+c <br>\n",
    ">> SIGKILL : 强制中断 <br>\n",
    ">> SIGTERM : 正常中断 <br>\n",
    ">> SIGSTOP : Ctrl+z"
   ]
  },
  {
   "cell_type": "markdown",
   "metadata": {},
   "source": [
    "# 离线管理问题\n",
    "nohup  \n",
    "> nohup commands & <br>\n",
    "> nohup java \\\\ <br>\n",
    ">　　-XX:MaxMetaspaceSize=1024m \\\\ <br>\n",
    ">　　-XX:InitialBootClassLoaderMetaspaceSize=256m \\\\ <br>\n",
    ">　　-Xms2g -Xmx4g \\\\ <br>\n",
    ">　　-jar video-retrieval-0.0.1-SNAPSHOT.jar \\\\ <br>\n",
    ">　　--spring.profiles.active=\"prod\" \\\\ <br>\n",
    ">　　> start.log 2>&1 &"
   ]
  },
  {
   "cell_type": "markdown",
   "metadata": {},
   "source": [
    "# 系统资源查看\n",
    "* free : 内存使用情况\n",
    "> free [-bkmgh] [-t] [-s N -c N]  \n",
    ">> -b : 设置显示单位 byte/kb/mb/gb/自定义  \n",
    ">> -t : 显示实体内存与swap总量  \n",
    ">> -s : 每几秒输出一次 --CentOS  \n",
    ">> -c : 与-s同时使用,让free列出几次 --CentOS\n",
    "* uname : 查看系统与核心相关信息\n",
    "> uname [-asrmpi]\n",
    ">> -a : 所有系统相关信息  \n",
    ">> -s : 系统核心名称  \n",
    ">> -r : 核心的版本  \n",
    ">> -m : 系统的硬件名称  \n",
    ">> -p : CPU类型  \n",
    ">> -i : 硬件平台\n",
    "* uptime : 查看系统启动时间与工作负载\n",
    "* netstat :　追踪网络\n",
    "> netstat -[atunlp]\n",
    ">> -a : 将系统所有的连线/监听/Socket数据都列出来  \n",
    ">> -t : 列出tcp网络封包的数据  \n",
    ">> -u : 列出udp网络封包的数据  \n",
    ">> -n : 以端口号显示  \n",
    ">> -l : 列出正在网络监听的服务  \n",
    ">> -p : 列出PID"
   ]
  },
  {
   "cell_type": "markdown",
   "metadata": {},
   "source": [
    "# 系统服务 daemons\n"
   ]
  }
 ],
 "metadata": {
  "kernelspec": {
   "display_name": "Python 3",
   "language": "python",
   "name": "python3"
  },
  "language_info": {
   "codemirror_mode": {
    "name": "ipython",
    "version": 3
   },
   "file_extension": ".py",
   "mimetype": "text/x-python",
   "name": "python",
   "nbconvert_exporter": "python",
   "pygments_lexer": "ipython3",
   "version": "3.7.5"
  }
 },
 "nbformat": 4,
 "nbformat_minor": 2
}

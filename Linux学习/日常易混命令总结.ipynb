{
 "cells": [
  {
   "cell_type": "markdown",
   "metadata": {},
   "source": [
    "# 日常易混命令总结"
   ]
  },
  {
   "cell_type": "markdown",
   "metadata": {},
   "source": [
    "## 连接\n",
    "\n",
    "<p>硬链接 -- ln source link<br>\n",
    "        source 可以为文件、文件夹，但本地需要包含，不存在文件将报错<br>\n",
    "        硬链接可以理解为 同一个对象的两个引用变量，单个更新另一个同步更新，删除一个不影响另一个\n",
    "<p>\n",
    "<P>软连接 -- ln -s source link<br>\n",
    "    软链接可以理解为windows中的桌面快捷方式，原文件、文件夹即为对象，软连接只是其引用变量而已<p>\n"
   ]
  },
  {
   "cell_type": "markdown",
   "metadata": {},
   "source": [
    "## 重定向\n",
    "<p>\n",
    "标准输出流： > <br>\n",
    "创建空文件： lab$ > test.log 可以直接在当前文件夹下生成空文件<br>\n",
    "追加： >> 追加在原文件内容末尾<br>\n",
    "<p>\n",
    "<p>\n",
    "标准错误流： 2> <br>\n",
    "标准输出+标准错误流：直接使用 &> 或者 在标准输出的文件后追加 2>&1\n",
    "<p>\n",
    "<p>\n",
    "处理不需要的输出：/dev/null 直接导入黑洞-位存储桶\n",
    "<p>"
   ]
  },
  {
   "cell_type": "code",
   "execution_count": null,
   "metadata": {},
   "outputs": [],
   "source": []
  }
 ],
 "metadata": {
  "kernelspec": {
   "display_name": "Python 3",
   "language": "python",
   "name": "python3"
  },
  "language_info": {
   "codemirror_mode": {
    "name": "ipython",
    "version": 3
   },
   "file_extension": ".py",
   "mimetype": "text/x-python",
   "name": "python",
   "nbconvert_exporter": "python",
   "pygments_lexer": "ipython3",
   "version": "3.7.5"
  }
 },
 "nbformat": 4,
 "nbformat_minor": 2
}

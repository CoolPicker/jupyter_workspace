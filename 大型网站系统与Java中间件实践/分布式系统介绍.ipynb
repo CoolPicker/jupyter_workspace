{
 "cells": [
  {
   "cell_type": "markdown",
   "metadata": {},
   "source": [
    "# 初识分布式系统"
   ]
  },
  {
   "cell_type": "markdown",
   "metadata": {},
   "source": [
    "> 分布式系统(Distributed Systems Concepts and Design)定义: A distributed system is one in which components located at networked computers communicate and coordinate their actions only by passing messages.\n",
    "\n",
    "> 重点:一是组件分布在网络计算机上,二是组件之间仅仅通过消息传递来通信并协调行动.\n",
    "\n",
    "> 原则:首先分布式系统一定是由多个节点组成的系统,一般来说一个节点就是一台计算机;然后这些节点不是孤立的,而是互相连通的;最后,这些连通的节点上部署了我们的组件,并且相互之间的操作会有协同.\n",
    "\n",
    "> 为什么要有分布式系统:\n",
    "    升级单机处理能力的性价比越来越低\n",
    "    单机处理能力存在瓶颈\n",
    "    处于稳定性和可用性的考虑\n",
    "    \n",
    "> 摩尔定律:当价格不变时,每隔18个月,集成电路上可容纳的晶体管数目会增加一倍,性能也将提升一倍.\n",
    "    \n",
    "    单机处理能力包括单机的处理器CPU/内存/磁盘和网络."
   ]
  },
  {
   "cell_type": "markdown",
   "metadata": {},
   "source": [
    "# 分布式系统的基础知识"
   ]
  },
  {
   "cell_type": "markdown",
   "metadata": {},
   "source": [
    "> 冯诺依曼 组成计算机的五要素:输入设备/输出设备/运算器/控制器/存储器\n",
    "\n",
    "> 多进程与多线程:首先,线程是属于进程的,一个进程内的多个线程共享了进程的内存空间;而多个进程之间的内存空间时独立的,因此多个进程间通过内存共享/交换数据的方式与多个线程间的方式就有所不同.其次,多进程相对于单进程多线程更容易实现资源控制,且实现了一定的高可用,但多进程共享数据先对多线程要大,会涉及序列化与反序列化的开销.\n",
    "\n",
    "分布式系统时多机组成的系统,可以近似看做把单机多进程变为了多机多进程.\n",
    "\n",
    "> ISO的OSI七层模型: 1.Application Layer - 应用层 ; 2.Presentation Layer - 表示层 ; 3.Session Layer - 会话层 ; 4.Transport - 传输层 ; 5.Network Layer - 网络层 ; 6.Data Link Layer - 数据链路层 ; 7.Physical Layer - 物理层 . \n",
    "\n",
    "> TCP/IP的四层模型：Application Layer - 应用层 (1.2.3) ; Transport Layer - 传输层 (4) ; Internetwork Layer - 互联网层 (5) ; Network Interface Layer - 数据链路网络接口层 (6.7)\n",
    "\n",
    "网络IO实现方式:\n",
    "\n",
    "1. BIO方式:采用阻塞的方式实现,即一个Socket套接字需要使用一个线程来进行处理.发生建立连接/读数据/写数据的操作时,都可能会阻塞.\n",
    "2. NIO方式:基于事件驱动思想,采用的是Reactor模式.明显的好处时不需要为每个Socket的套接字分配一个线程,而可以在一个线程中处理多个Socket套接字相关的工作.Reactor的工作方式 - Reactor会管理所有的Handler,并且把出现的事件交给相应的Handler去处理.在NIO的方式下,不是用单个线程去应对单个Socket套接字,而是统一通过Reactor对所有客户端的Socket套接字的事件做处理,然后派发到不同的线程中.\n",
    "3. AIO方式:异步IO.采用Proactor模式.AIO与NIO的差别,AIO在进行读/写操作时,只需要调用相应的read/write方法,并且需要传入CompletionHandler;在动作完成后,会调用CompletionHandler.NIO的通知是发生在动作之前,是在可写/可读的时候,Selector发现这些事件后调用Handler处理.\n",
    "\n",
    "目前,服务端的代码基本都是基于NIO.AIO和NIO最大的区别时:NIO在有通知时可以进行相关操作,而AIO在有通知时表示相关操作已经完成."
   ]
  },
  {
   "cell_type": "markdown",
   "metadata": {},
   "source": [
    "分布式 - 处理单点故障: 首先给这个单点做好备份,其次降低单点故障的影响范围. 示例:小视频去重系统的微服务拆分,下载入库redis,处理结果存redis,并备份结果至MariaDB,统一对外入库接口."
   ]
  }
 ],
 "metadata": {
  "kernelspec": {
   "display_name": "Python 3",
   "language": "python",
   "name": "python3"
  },
  "language_info": {
   "codemirror_mode": {
    "name": "ipython",
    "version": 3
   },
   "file_extension": ".py",
   "mimetype": "text/x-python",
   "name": "python",
   "nbconvert_exporter": "python",
   "pygments_lexer": "ipython3",
   "version": "3.7.3"
  }
 },
 "nbformat": 4,
 "nbformat_minor": 2
}

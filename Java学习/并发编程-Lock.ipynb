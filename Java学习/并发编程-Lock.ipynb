{
 "cells": [
  {
   "cell_type": "markdown",
   "metadata": {},
   "source": [
    "# 并发编程 Lock\n",
    "    Lock接口:\n",
    "    void lock();\n",
    "    void lockInterruptibly() throws InterruptedException;\n",
    "    boolean tryLock();\n",
    "    boolean tryLock(long time, TimeUnit unit) throws InterruptedException;\n",
    "    void unlock();\n",
    "    Condition newCondition();\n",
    "\n",
    "    其中, lock()/tryLock()/tryLock(long time, TimeUnit unit)/lockInterruptibly()用来获取锁; unlock()用来释放锁.\n",
    "    "
   ]
  },
  {
   "cell_type": "code",
   "execution_count": null,
   "metadata": {},
   "outputs": [],
   "source": []
  }
 ],
 "metadata": {
  "kernelspec": {
   "display_name": "Python 3",
   "language": "python",
   "name": "python3"
  },
  "language_info": {
   "codemirror_mode": {
    "name": "ipython",
    "version": 3
   },
   "file_extension": ".py",
   "mimetype": "text/x-python",
   "name": "python",
   "nbconvert_exporter": "python",
   "pygments_lexer": "ipython3",
   "version": "3.7.5"
  }
 },
 "nbformat": 4,
 "nbformat_minor": 2
}

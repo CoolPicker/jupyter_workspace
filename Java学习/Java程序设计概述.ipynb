{
 "cells": [
  {
   "cell_type": "markdown",
   "metadata": {},
   "source": [
    "# Java程序设计概述"
   ]
  },
  {
   "cell_type": "markdown",
   "metadata": {},
   "source": [
    "    Java\"白皮书\"关键术语:\n",
    "        1.简单性\n",
    "        2.面向对象\n",
    "            Object - Interface\n",
    "        3.分布式\n",
    "        4.健壮性\n",
    "        5.安全性\n",
    "        6.体系结构中立\n",
    "            JVM虚拟机,编译器生成体系结构中立的字节码文件.\n",
    "        7.可移植性\n",
    "        8.解释型\n",
    "        9.高性能\n",
    "        10.多线程\n",
    "        11.动态性\n"
   ]
  },
  {
   "cell_type": "markdown",
   "metadata": {},
   "source": [
    "Java语言的发展状况\n",
    "\n",
    "| 版本 | 年份 | 语言新特性 | 类和接口的数量 |\n",
    "| ------ | ------ | ------ | ------ |\n",
    "| 1.0 | 1996 | 语言本身 | 211 |\n",
    "| 1.1 | 1997 | 内部类 | 477 |\n",
    "| 1.2 | 1998 | stricfp 修饰符 | 1524 |\n",
    "| 1.3 | 2000 | 无 | 1840 |\n",
    "| 1.4 | 2002 | 断言 | 2723 |\n",
    "| 5.0 | 2004 | 泛型类/\"for each\"循环/可变元参数/自动装箱/元数据/枚举/静态导入 | 3237 |\n",
    "| 6 | 2006 | 无 | 3793 |\n",
    "| 7 | 2011 | 基于字符串的switch/钻石操作符/二进制字面量/异常处理改进 | 4024 |\n",
    "| 8 | 2014 | lambda表达式/包含默认方法的接口/流和日期,时间库 | 4240 |"
   ]
  },
  {
   "cell_type": "markdown",
   "metadata": {},
   "source": []
  },
  {
   "cell_type": "markdown",
   "metadata": {},
   "source": [
    "## 数据类型\n",
    "    Java是一种强类型语言,即为每一个变量声明一种类型.在Java中,一共有8种基本类型 ( primitive type), 其中有4种整型、2种浮点类型、1种用于表示Unicode编码的字符单元的字符类型char和1种用于表示真值的boolean类型。\n",
    "### 整型\n",
    "\n",
    "| 类型 | 存储需求 | 取值范围 | \n",
    "| ---- | ---- | ---- | \n",
    "| int | 4字节 | -2 147 483 648 ~ 2 147 483 647 | \n",
    "| short | 2字节 | -32 768 ~ 32767 | \n",
    "| long | 8字节 | - 9 223 372 036 854 775 B08 - 9 223 372 036 854 775 807 |\n",
    "| byte | 1字节 | -128 ~ 127 |\n",
    "\n",
    "| 类型 | 存储需求 | 取值范围 |\n",
    "| ---- | ---- | ---- |\n",
    "| float | 4字节 | 有效位数为 6~7 位 | \n",
    "| double | 8字节 | 有效位数为 15 位 |\n",
    "**注意: 处理浮点数据时,偏移量的设置;同时金融计算需使用BigDecimal类.**\n",
    "\n",
    "| 转义序列 | 名称 | Unicode值 |\n",
    "| ---- | ---- | ---- | \n",
    "| \\b | 退格 | \\u0008 |\n",
    "| \\t | 制表 | \\u0009 |\n",
    "| \\n | 换行 | \\u000a |\n",
    "| \\r | 回车 | \\u000d |\n",
    "| \\\\\" | 双引号 | \\u0022 |\n",
    "| \\\\' | 单引号 | \\u0027 |\n",
    "| \\\\\\ | 反斜线 | \\u005c |\n",
    "\n"
   ]
  },
  {
   "cell_type": "code",
   "execution_count": null,
   "metadata": {},
   "outputs": [],
   "source": []
  }
 ],
 "metadata": {
  "kernelspec": {
   "display_name": "Python 3",
   "language": "python",
   "name": "python3"
  },
  "language_info": {
   "codemirror_mode": {
    "name": "ipython",
    "version": 3
   },
   "file_extension": ".py",
   "mimetype": "text/x-python",
   "name": "python",
   "nbconvert_exporter": "python",
   "pygments_lexer": "ipython3",
   "version": "3.7.3"
  }
 },
 "nbformat": 4,
 "nbformat_minor": 2
}

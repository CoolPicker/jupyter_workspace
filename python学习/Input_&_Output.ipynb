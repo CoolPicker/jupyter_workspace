{
 "cells": [
  {
   "cell_type": "markdown",
   "metadata": {},
   "source": [
    "# Input & Output"
   ]
  },
  {
   "cell_type": "markdown",
   "metadata": {},
   "source": [
    "## 格式化输出语句"
   ]
  },
  {
   "cell_type": "code",
   "execution_count": 3,
   "metadata": {},
   "outputs": [
    {
     "data": {
      "text/plain": [
       "'Results of the 2016 Referendum'"
      ]
     },
     "execution_count": 3,
     "metadata": {},
     "output_type": "execute_result"
    }
   ],
   "source": [
    "year = 2016\n",
    "event = 'Referendum'\n",
    "f'Results of the {year} {event}' # 格式化输出字符串 在引号前加上 f 或 F, 使用{}包裹变量"
   ]
  },
  {
   "cell_type": "code",
   "execution_count": 8,
   "metadata": {},
   "outputs": [
    {
     "data": {
      "text/plain": [
       "' 42572654 YES votes 49.67%'"
      ]
     },
     "execution_count": 8,
     "metadata": {},
     "output_type": "execute_result"
    }
   ],
   "source": [
    "yes_votes = 42_572_654\n",
    "no_votes = 43_132_495\n",
    "percentage = yes_votes / (yes_votes + no_votes)\n",
    "'{:-9} YES votes {:2.2%}'.format(yes_votes, percentage) # str.format() 进一步扩展了对字符串的格式化, 例如示例中的变量格式化"
   ]
  },
  {
   "cell_type": "code",
   "execution_count": 2,
   "metadata": {},
   "outputs": [
    {
     "name": "stdout",
     "output_type": "stream",
     "text": [
      "Hello, world.\n",
      "'Hello, world.'\n",
      "0.14285714285714285\n",
      "The value of x is 23.4, and y is 60000...\n",
      "hello, world\n",
      "\n",
      "'hello, world\\n'\n",
      "(23.4, 60000, ('spam', 'eggs'))\n"
     ]
    }
   ],
   "source": [
    "# 其它类型转字符串类型输出\n",
    "# The repr() of a string adds string quotes and backslashes\n",
    "# The argument of repr() may be any Python object\n",
    "s = 'Hello, world.'\n",
    "print(str(s))\n",
    "print(repr(s))\n",
    "print(str(1/7))\n",
    "x = 10 * 2.34\n",
    "y = 200 * 300\n",
    "print('The value of x is ' + repr(x) + ', and y is ' + repr(y) + '...')\n",
    "# str() 与 repr()的不同 str()会解析转义字符, repr()直接识别为字符串, 即会自适应的添加引号和反斜线\n",
    "hello = 'hello, world\\n'\n",
    "print(str(hello))\n",
    "print(repr(hello))\n",
    "print(repr((x, y, ('spam', 'eggs'))))"
   ]
  },
  {
   "cell_type": "code",
   "execution_count": 10,
   "metadata": {},
   "outputs": [
    {
     "name": "stdout",
     "output_type": "stream",
     "text": [
      "The value of pi is approximately 3.142.\n",
      "--------------------------------------------------\n",
      "Tom        ===>      38432\n",
      "Jack       ===>       1232\n",
      "Lincoln    ===>        999\n"
     ]
    }
   ],
   "source": [
    "import math\n",
    "print(f'The value of pi is approximately {math.pi:.3f}.') # 格式化字符串, 可以采用 : 的切片形式, 指定字段长度\n",
    "print('-' * 50)\n",
    "# 同时, : 分割, 指定字段长度, 实现使列队齐, 适用于导出输出流时列的格式化\n",
    "table = {'Tom': 38432, 'Jack': 1232, 'Lincoln':999}\n",
    "for name, phone in table.items():\n",
    "    print(f'{name:10} ===> {phone:10}')"
   ]
  },
  {
   "cell_type": "code",
   "execution_count": 11,
   "metadata": {},
   "outputs": [
    {
     "name": "stdout",
     "output_type": "stream",
     "text": [
      "My hovercraft is full of ells\t.\n",
      "My hovercraft is full of 'ells\\t'.\n"
     ]
    }
   ],
   "source": [
    "# 至于转换符的使用 - 格式化前可通过指定不同的转换符来使用, !a == ascii(), !s == str() - default, !r == repr()\n",
    "animals = 'ells\\t'\n",
    "print(f'My hovercraft is full of {animals}.')\n",
    "print(f'My hovercraft is full of {animals!r}.')"
   ]
  },
  {
   "cell_type": "code",
   "execution_count": 14,
   "metadata": {},
   "outputs": [
    {
     "name": "stdout",
     "output_type": "stream",
     "text": [
      "spam and egg\n",
      "egg and egg\n",
      "This spam is absolutely horrible.\n",
      "The story of Tom, Jerry, and Spike.\n"
     ]
    }
   ],
   "source": [
    "# str.format() - 标准的字符串格式化语句, 可自定义指定各参数的位置, 默认正序 0-n\n",
    "print('{0} and {1}'.format('spam', 'egg'))\n",
    "print('{1} and {1}'.format('spam', 'egg'))\n",
    "# btw, 使用format函数可以指定关键字参数\n",
    "print('This {food} is {adjective}.'.format(food='spam', adjective='absolutely horrible'))\n",
    "print('The story of {0}, {1}, and {dog}.'.format('Tom', 'Jerry', dog='Spike'))"
   ]
  },
  {
   "cell_type": "code",
   "execution_count": 34,
   "metadata": {},
   "outputs": [
    {
     "name": "stdout",
     "output_type": "stream",
     "text": [
      "Jack: 4098; Sjoerd: 4127; Dcab: 8637678\n",
      "Jack: 4098; Sjoerd: 4127; Dcab: 8637678\n",
      " 1   1    1\n",
      " 2   4    8\n",
      " 3   9   27\n",
      " 4  16   64\n",
      " 5  25  125\n",
      " 6  36  216\n",
      " 7  49  343\n",
      " 8  64  512\n",
      " 9  81  729\n",
      "10 100 1000\n",
      "--------------------------------------------------\n",
      " 1   1    1\n",
      " 2   4    8\n",
      " 3   9   27\n",
      " 4  16   64\n",
      " 5  25  125\n",
      " 6  36  216\n",
      " 7  49  343\n",
      " 8  64  512\n",
      " 9  81  729\n",
      "10 100 1000\n",
      "--------------------------------------------------\n",
      "00012\n",
      "-003.14\n",
      "3.14159265359\n",
      "3.142\n",
      "3.141592654\n"
     ]
    }
   ],
   "source": [
    "# 格式化字符串时, 使用变量名是推荐方式, 如此可应对较长的字符串, 直接换行即可适应良好的编码规范\n",
    "table = {'Sjoerd': 4127, 'Jack': 4098, 'Dcab': 8637678}\n",
    "print('Jack: {0[Jack]:d}; Sjoerd: {0[Sjoerd]:d}; '\n",
    "        'Dcab: {0[Dcab]:d}'.format(table))\n",
    "# 同时, 支持 ** 标记, 完成dic字典的过滤\n",
    "print('Jack: {Jack:d}; Sjoerd: {Sjoerd:d}; '\n",
    "        'Dcab: {Dcab:d}'.format(**table))\n",
    "for x in range(1, 11):\n",
    "    print('{:2d} {:3d} {:4d}'.format(x, x*x, x*x*x)) # 不指定数字索引, 默认 0, 1, 2...\n",
    "print('-' * 50)\n",
    "# 补位方法, str.rjust() str.ljust() str.center() 用空格补位\n",
    "for x in range(1, 11):\n",
    "    print(repr(x).rjust(2), repr(x*x).rjust(3), end=' ')\n",
    "    # Note use of 'end' on previous line\n",
    "    print(repr(x*x*x).rjust(4))\n",
    "# 针对数字的首字符补零\n",
    "print('-' * 50)\n",
    "print('12'.zfill(5))\n",
    "print('-3.14'.zfill(7))\n",
    "print('3.14159265359'.zfill(5))\n",
    "pi_now = 3.14159265359\n",
    "print('{:2.4}'.format(pi_now))\n",
    "import math\n",
    "print('%5.9f' % math.pi) # 旧版本格式化"
   ]
  },
  {
   "cell_type": "code",
   "execution_count": 28,
   "metadata": {},
   "outputs": [
    {
     "name": "stdout",
     "output_type": "stream",
     "text": [
      "/home/lab/test/123/test-file.txt\n",
      "/home/lab/test/123/test-file.txt deleted.\n",
      "first line\n",
      "second line\n",
      "third line\n",
      "\n",
      "first line\n",
      "second line\n",
      "third line\n",
      "小明小刚小王小明小刚小王小明\n",
      "小刚\n",
      "小王\n",
      "----------------------------------------------\n",
      "<class '_io.TextIOWrapper'>\n",
      "0\n",
      "abactinally\n",
      "\n",
      "abatements\n",
      "abbr\n",
      "27\n",
      "eviatable\n",
      "abett\n",
      "<class '_io.TextIOWrapper'>\n",
      "42\n",
      "3768\n"
     ]
    }
   ],
   "source": [
    "import os\n",
    "\"\"\"\n",
    "    open(file, mode='r')\n",
    "        mode, 默认值是 'r', 可用的mode包括:\n",
    "            参数字符    意义\n",
    "            'r'         只读模式\n",
    "            'w'         写入模式(重建)\n",
    "            'x'         排他模式 ----- 如果文件已存在则打开失败\n",
    "            'a'         追加模式 ----- 在已有文件末尾追加\n",
    "            'b'         二进制文件模式\n",
    "            't'         文本文件模式(默认)\n",
    "            '+'         读写模式(更新)\n",
    "\"\"\"\n",
    "\n",
    "dir_path = '/home/lab/test/123/'  # 目录\n",
    "\n",
    "# 创建文件\n",
    "f = open(dir_path + 'test-file.txt', 'w')\n",
    "print(f.name)\n",
    "f.close()\n",
    "\n",
    "# 删除文件\n",
    "if os.path.exists(f.name):\n",
    "    os.remove(f.name)\n",
    "    print('{} deleted.'.format(f.name))\n",
    "else:\n",
    "    print('{} does not exist.'.format(f.name))\n",
    "\n",
    "# 读写文件\n",
    "f = open(dir_path + 'test-file.txt', 'w')\n",
    "f.write('first line\\nsecond line\\nthird line\\n')\n",
    "f.close()\n",
    "\n",
    "f = open(dir_path + 'test-file.txt', 'r')\n",
    "s = f.read()\n",
    "print(s)\n",
    "f.close()\n",
    "\n",
    "f = open(dir_path + 'test-file.txt', 'r')\n",
    "for line in f:\n",
    "    print(line.strip())\n",
    "for line in f.readlines():\n",
    "    print(line.strip())\n",
    "f.close()\n",
    "\n",
    "f = open(dir_path + 'test-file2.txt', 'w')\n",
    "a_list = ['小明', '小刚', '小王']\n",
    "f.writelines(a_list)\n",
    "for name in a_list:\n",
    "    f.write(name)\n",
    "for name in a_list:\n",
    "    f.write(name)\n",
    "    f.write('\\n')\n",
    "    f.flush()\n",
    "f.close()\n",
    "\n",
    "# with 语句块 , 可把针对当前以特定模式打开的某个文件的各种操作,写入同一个语句块\n",
    "# 且,with语句块不用写 file.close() 推荐,\n",
    "# 即便异常也可关闭io流, 省去了 try-finally 代码块\n",
    "with open(dir_path + 'test-file2.txt', 'r') as f:\n",
    "    for line in f:\n",
    "        print(line.strip())\n",
    "\n",
    "print('----------------------------------------------')\n",
    "\n",
    "def word_to_sum(word):\n",
    "    sum_char = 0\n",
    "    for char in word.strip():\n",
    "        sum_char = sum_char + ord(char) - 96\n",
    "    return sum_char\n",
    "# 实战,求取得分为100的单词\n",
    "with open('/home/lab/test/words_100.txt', 'w') as res:\n",
    "    with open('/home/lab/jupyter_workspace/the-craft-of-selfteaching/words_alpha.txt', 'r') as f:\n",
    "        for line in f:\n",
    "            if word_to_sum(line) == 100:\n",
    "                res.write(line)\n",
    "with open('/home/lab/test/words_100.txt', 'r') as f:\n",
    "    # read() 读取文件流的方式不推荐, 最快捷的方式是直接迭代 TextIOWrapper对象, 高效/快捷/简洁, 如上\n",
    "    print(type(f))\n",
    "    print(f.tell()) # f.tell() 返回当前流所在字节位置, 相对于整个文件流而言, 从头部算起 ***\n",
    "    g = f.readline() # readline() 读取一行\n",
    "    print(g)\n",
    "    m = f.read(15) # 读取指定大小的字节数, 缺省或为负则读取所有\n",
    "    print(m)\n",
    "    print(f.tell())\n",
    "    a = f.read(15) # 未读取完毕, 继续返回, 否则返回空串\n",
    "    print(a)\n",
    "    print(type(f))\n",
    "    print(f.tell())\n",
    "    # 读取io流返回列表对象\n",
    "#     res_list = list(f) # 自动全部读流\n",
    "    res_list2 = f.readlines()\n",
    "#     print(len(res_list))\n",
    "    print(len(res_list2))\n",
    "#     for line in f:\n",
    "#         print(line, end='')"
   ]
  },
  {
   "cell_type": "code",
   "execution_count": 50,
   "metadata": {},
   "outputs": [
    {
     "name": "stdout",
     "output_type": "stream",
     "text": [
      "b'5'\n",
      "b'd'\n"
     ]
    }
   ],
   "source": [
    "# f.seek(offset, from_what) 指定字符串文件中当前读取内容所在字节位置, 实际使用类似 string 的slice切片函数的用法 ***\n",
    "# from_what 为0时 起始位置为文件头部, 为1时 起始位置为当前文件位置, 为2时 起始位置为文件尾部, 默认为0\n",
    "# 注意: 当为文本模式(mode选项未追加b)时, seek()只可从文件首部指定, 且合法的offset(偏移量)只能来自 tell() 或 0\n",
    "with open('/home/lab/test/rw_test.txt', 'rb+') as f:\n",
    "    # f.write(b'0123456789abcdef')\n",
    "    f.seek(5)\n",
    "    res = f.read(1)\n",
    "    print(res)\n",
    "    f.seek(-3, 2)\n",
    "    print(f.read(1))\n",
    "    "
   ]
  },
  {
   "cell_type": "code",
   "execution_count": 45,
   "metadata": {},
   "outputs": [
    {
     "data": {
      "text/plain": [
       "2"
      ]
     },
     "execution_count": 45,
     "metadata": {},
     "output_type": "execute_result"
    }
   ],
   "source": [
    "import random\n",
    "random.randrange(0,3)"
   ]
  }
 ],
 "metadata": {
  "kernelspec": {
   "display_name": "Python 3",
   "language": "python",
   "name": "python3"
  },
  "language_info": {
   "codemirror_mode": {
    "name": "ipython",
    "version": 3
   },
   "file_extension": ".py",
   "mimetype": "text/x-python",
   "name": "python",
   "nbconvert_exporter": "python",
   "pygments_lexer": "ipython3",
   "version": "3.7.3"
  }
 },
 "nbformat": 4,
 "nbformat_minor": 2
}

{
 "cells": [
  {
   "cell_type": "markdown",
   "metadata": {},
   "source": [
    "# Modules - 模块"
   ]
  },
  {
   "cell_type": "markdown",
   "metadata": {},
   "source": [
    "模块名 - .py 文件名\n",
    "\n",
    "变量 sys.path 是所有模块保存路径的列表,可以在代码中进行增删. \n",
    "\n",
    "同时环境变量 PYTHONPATH 默认保存着初始集, 同时,包路径的新增,可在 site.py 下进行,以实现默认加载."
   ]
  },
  {
   "cell_type": "code",
   "execution_count": 8,
   "metadata": {},
   "outputs": [
    {
     "name": "stdout",
     "output_type": "stream",
     "text": [
      "['/home/lab/jupyter_workspace/python学习', '/usr/local/lib/python37.zip', '/usr/local/lib/python3.7', '/usr/local/lib/python3.7/lib-dynload', '', '/home/lab/.local/lib/python3.7/site-packages', '/usr/local/lib/python3.7/site-packages', '/usr/local/lib/python3.7/site-packages/IPython/extensions', '/home/lab/.ipython', '/home/lab/anaconda3/lib/python3.7/site-packages']\n",
      "----------------------------------------\n",
      "['wo', 'xin', 'yong', 'heng']\n",
      "[['wǒ'], ['xīn'], ['yǒng'], ['héng']]\n"
     ]
    }
   ],
   "source": [
    "import sys\n",
    "print(sys.path) # 导入指定包路径 site-packages sys.path.append('path')\n",
    "print('-' * 40)\n",
    "from pypinyin import * # 导入的模块通常位于头部,也可灵活指定导入的方法\n",
    "\n",
    "idiom = '我心永恒'\n",
    "print(lazy_pinyin(idiom))\n",
    "print(pinyin(idiom))"
   ]
  },
  {
   "cell_type": "markdown",
   "metadata": {},
   "source": [
    "## dir()"
   ]
  },
  {
   "cell_type": "markdown",
   "metadata": {},
   "source": [
    "内置函数 dir() used to find out which names a module defines(variables, modules, functions, etc), return a sorted list of strings. Without arguments, dir() lists the names you have defined currently."
   ]
  },
  {
   "cell_type": "code",
   "execution_count": 1,
   "metadata": {},
   "outputs": [
    {
     "name": "stdout",
     "output_type": "stream",
     "text": [
      "['__breakpointhook__', '__displayhook__', '__doc__', '__excepthook__', '__interactivehook__', '__loader__', '__name__', '__package__', '__spec__', '__stderr__', '__stdin__', '__stdout__', '_clear_type_cache', '_current_frames', '_debugmallocstats', '_framework', '_getframe', '_git', '_home', '_xoptions', 'abiflags', 'api_version', 'argv', 'base_exec_prefix', 'base_prefix', 'breakpointhook', 'builtin_module_names', 'byteorder', 'call_tracing', 'callstats', 'copyright', 'displayhook', 'dont_write_bytecode', 'exc_info', 'excepthook', 'exec_prefix', 'executable', 'exit', 'flags', 'float_info', 'float_repr_style', 'get_asyncgen_hooks', 'get_coroutine_origin_tracking_depth', 'get_coroutine_wrapper', 'getallocatedblocks', 'getcheckinterval', 'getdefaultencoding', 'getdlopenflags', 'getfilesystemencodeerrors', 'getfilesystemencoding', 'getprofile', 'getrecursionlimit', 'getrefcount', 'getsizeof', 'getswitchinterval', 'gettrace', 'hash_info', 'hexversion', 'implementation', 'int_info', 'intern', 'is_finalizing', 'maxsize', 'maxunicode', 'meta_path', 'modules', 'path', 'path_hooks', 'path_importer_cache', 'platform', 'prefix', 'ps1', 'ps2', 'ps3', 'set_asyncgen_hooks', 'set_coroutine_origin_tracking_depth', 'set_coroutine_wrapper', 'setcheckinterval', 'setdlopenflags', 'setprofile', 'setrecursionlimit', 'setswitchinterval', 'settrace', 'stderr', 'stdin', 'stdout', 'thread_info', 'version', 'version_info', 'warnoptions']\n",
      "['__builtins__', '__cached__', '__doc__', '__file__', '__loader__', '__name__', '__package__', '__path__', '__spec__', 'absolute_import', 'division', 'print_function', 'with_statement']\n"
     ]
    }
   ],
   "source": [
    "import sys, shadowsocks\n",
    "\n",
    "print(dir(sys))\n",
    "print(dir(shadowsocks))"
   ]
  },
  {
   "cell_type": "markdown",
   "metadata": {},
   "source": [
    "dir() 不会展示内置函数, 除非导包 builtins, 然后调用dir()"
   ]
  },
  {
   "cell_type": "code",
   "execution_count": 2,
   "metadata": {},
   "outputs": [
    {
     "name": "stdout",
     "output_type": "stream",
     "text": [
      "['ArithmeticError', 'AssertionError', 'AttributeError', 'BaseException', 'BlockingIOError', 'BrokenPipeError', 'BufferError', 'BytesWarning', 'ChildProcessError', 'ConnectionAbortedError', 'ConnectionError', 'ConnectionRefusedError', 'ConnectionResetError', 'DeprecationWarning', 'EOFError', 'Ellipsis', 'EnvironmentError', 'Exception', 'False', 'FileExistsError', 'FileNotFoundError', 'FloatingPointError', 'FutureWarning', 'GeneratorExit', 'IOError', 'ImportError', 'ImportWarning', 'IndentationError', 'IndexError', 'InterruptedError', 'IsADirectoryError', 'KeyError', 'KeyboardInterrupt', 'LookupError', 'MemoryError', 'ModuleNotFoundError', 'NameError', 'None', 'NotADirectoryError', 'NotImplemented', 'NotImplementedError', 'OSError', 'OverflowError', 'PendingDeprecationWarning', 'PermissionError', 'ProcessLookupError', 'RecursionError', 'ReferenceError', 'ResourceWarning', 'RuntimeError', 'RuntimeWarning', 'StopAsyncIteration', 'StopIteration', 'SyntaxError', 'SyntaxWarning', 'SystemError', 'SystemExit', 'TabError', 'TimeoutError', 'True', 'TypeError', 'UnboundLocalError', 'UnicodeDecodeError', 'UnicodeEncodeError', 'UnicodeError', 'UnicodeTranslateError', 'UnicodeWarning', 'UserWarning', 'ValueError', 'Warning', 'ZeroDivisionError', '__IPYTHON__', '__build_class__', '__debug__', '__doc__', '__import__', '__loader__', '__name__', '__package__', '__spec__', 'abs', 'all', 'any', 'ascii', 'bin', 'bool', 'breakpoint', 'bytearray', 'bytes', 'callable', 'chr', 'classmethod', 'compile', 'complex', 'copyright', 'credits', 'delattr', 'dict', 'dir', 'display', 'divmod', 'enumerate', 'eval', 'exec', 'filter', 'float', 'format', 'frozenset', 'get_ipython', 'getattr', 'globals', 'hasattr', 'hash', 'help', 'hex', 'id', 'input', 'int', 'isinstance', 'issubclass', 'iter', 'len', 'license', 'list', 'locals', 'map', 'max', 'memoryview', 'min', 'next', 'object', 'oct', 'open', 'ord', 'pow', 'print', 'property', 'range', 'repr', 'reversed', 'round', 'set', 'setattr', 'slice', 'sorted', 'staticmethod', 'str', 'sum', 'super', 'tuple', 'type', 'vars', 'zip']\n"
     ]
    }
   ],
   "source": [
    "import builtins\n",
    "\n",
    "print(dir(builtins))"
   ]
  },
  {
   "cell_type": "markdown",
   "metadata": {},
   "source": [
    "## Packages"
   ]
  },
  {
   "cell_type": "markdown",
   "metadata": {},
   "source": [
    "    package根目录下需要包含一个 __init__.py 文件, 指向包名, 通常为空, 可添加初始化代码和全局变量.\n",
    "    导包可以导入具体的模块或指定子模块:\n",
    "        import sound.effects.echo # 使用中需使用完整路径, 且除最后一项, 之前各项均需为包名, 且最后一项只能为包名或模块名\n",
    "        print(sound.effects.echo.echofilter(input, output, delay=0.7, atten=4))\n",
    "        替代方案 - 实际使用中不需要前置模块路径\n",
    "        from sound.effects import echo\n",
    "        echo.echofilter(input, output, delay=0.7, atten=4))\n",
    "Note that when using <font color=blue size=3 face=雅黑>from package import item</font>,the item can be either a submodule(or subpackage) of the package, or some other name defined in the package, like a function, class or variable."
   ]
  },
  {
   "cell_type": "markdown",
   "metadata": {},
   "source": [
    "Importing * From a Package, 导包, 理想型是使用<font color=green size=3 face=雅黑>import *</font>, 例如<font color=blue size=3 face=雅黑>from sound.effects import *</font>, 开发者需要的是模块中声明的子模块(所有方法/变量等).但实际却并非如此, 要求开发设计阶段即提供包的常用子模块的显式索引, 使用的约定如下: 如果一个包对应的<font color=red size=3 face=雅黑>\\_\\_init\\_\\_.py</font>定义了列表<font color=red size=3 face=雅黑>\\_\\_all\\_\\_</font>, 使用<font color=blue size=3 face=雅黑>from package import *</font> 将自动导入其中定义的方法/变量等, 否则不会加载."
   ]
  },
  {
   "cell_type": "code",
   "execution_count": 4,
   "metadata": {},
   "outputs": [
    {
     "name": "stdout",
     "output_type": "stream",
     "text": [
      "['ke', 'zhou', 'qiu', 'jian']\n"
     ]
    }
   ],
   "source": [
    "from pypinyin import *\n",
    "print(lazy_pinyin('刻舟求剑'))"
   ]
  },
  {
   "cell_type": "code",
   "execution_count": 6,
   "metadata": {},
   "outputs": [
    {
     "name": "stdout",
     "output_type": "stream",
     "text": [
      "['pinyin', 'lazy_pinyin', 'slug', 'load_single_dict', 'load_phrases_dict', 'Style', 'STYLE_NORMAL', 'NORMAL', 'STYLE_TONE', 'TONE', 'STYLE_TONE2', 'TONE2', 'STYLE_TONE3', 'TONE3', 'STYLE_INITIALS', 'INITIALS', 'STYLE_FINALS', 'FINALS', 'STYLE_FINALS_TONE', 'FINALS_TONE', 'STYLE_FINALS_TONE2', 'FINALS_TONE2', 'STYLE_FINALS_TONE3', 'FINALS_TONE3', 'STYLE_FIRST_LETTER', 'FIRST_LETTER', 'STYLE_BOPOMOFO', 'BOPOMOFO', 'STYLE_BOPOMOFO_FIRST', 'BOPOMOFO_FIRST', 'STYLE_CYRILLIC', 'CYRILLIC', 'STYLE_CYRILLIC_FIRST', 'CYRILLIC_FIRST']\n",
      "pinyin\n",
      "lazy_pinyin\n",
      "slug\n",
      "load_single_dict\n",
      "load_phrases_dict\n",
      "Style\n",
      "STYLE_NORMAL\n",
      "NORMAL\n",
      "STYLE_TONE\n",
      "TONE\n",
      "STYLE_TONE2\n",
      "TONE2\n",
      "STYLE_TONE3\n",
      "TONE3\n",
      "STYLE_INITIALS\n",
      "INITIALS\n",
      "STYLE_FINALS\n",
      "FINALS\n",
      "STYLE_FINALS_TONE\n",
      "FINALS_TONE\n",
      "STYLE_FINALS_TONE2\n",
      "FINALS_TONE2\n",
      "STYLE_FINALS_TONE3\n",
      "FINALS_TONE3\n",
      "STYLE_FIRST_LETTER\n",
      "FIRST_LETTER\n",
      "STYLE_BOPOMOFO\n",
      "BOPOMOFO\n",
      "STYLE_BOPOMOFO_FIRST\n",
      "BOPOMOFO_FIRST\n",
      "STYLE_CYRILLIC\n",
      "CYRILLIC\n",
      "STYLE_CYRILLIC_FIRST\n",
      "CYRILLIC_FIRST\n"
     ]
    }
   ],
   "source": [
    "import pypinyin\n",
    "print(pypinyin.__all__)\n",
    "for item in pypinyin.__all__:\n",
    "    print(item)"
   ]
  },
  {
   "cell_type": "markdown",
   "metadata": {},
   "source": [
    "    如果没有在包下的 __init__.py 文件中声明 __all__ 变量, 则单独声明 import * 不会加载任何的子模块, 除非当前namespace前文已导入其它的子模块, 这时使用 import * 才能加载前已导入的子模块.示例:\n",
    "        import sound.effects.echo\n",
    "        import sound.effects.surround\n",
    "        from sound.effects import *\n",
    "    注意: import * 使用方便, 但并非推荐用法, 视具体情况而定.\n",
    "<font color=blue>from package import specific_submodule</font> 是推荐的模块导入方法."
   ]
  },
  {
   "cell_type": "markdown",
   "metadata": {},
   "source": [
    "    对于内置包引用, 使用相对路径进行模块的导入 *** 不推荐, 建议绝对路径导包.新增当前包路径到 sys.path即可"
   ]
  }
 ],
 "metadata": {
  "kernelspec": {
   "display_name": "Python 3",
   "language": "python",
   "name": "python3"
  },
  "language_info": {
   "codemirror_mode": {
    "name": "ipython",
    "version": 3
   },
   "file_extension": ".py",
   "mimetype": "text/x-python",
   "name": "python",
   "nbconvert_exporter": "python",
   "pygments_lexer": "ipython3",
   "version": "3.7.3"
  }
 },
 "nbformat": 4,
 "nbformat_minor": 2
}

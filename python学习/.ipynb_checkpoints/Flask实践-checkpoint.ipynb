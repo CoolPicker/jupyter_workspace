{
 "cells": [
  {
   "cell_type": "markdown",
   "metadata": {},
   "source": [
    "# Flask实践\n",
    "## Hello World"
   ]
  },
  {
   "cell_type": "code",
   "execution_count": 1,
   "metadata": {},
   "outputs": [
    {
     "name": "stdout",
     "output_type": "stream",
     "text": [
      " * Serving Flask app \"__main__\" (lazy loading)\n",
      " * Environment: production\n",
      "   WARNING: Do not use the development server in a production environment.\n",
      "   Use a production WSGI server instead.\n",
      " * Debug mode: off\n"
     ]
    },
    {
     "name": "stderr",
     "output_type": "stream",
     "text": [
      " * Running on http://127.0.0.1:5000/ (Press CTRL+C to quit)\n",
      "127.0.0.1 - - [19/Jun/2019 11:16:17] \"GET / HTTP/1.1\" 200 -\n"
     ]
    }
   ],
   "source": [
    "#!/usr/bin/env python3\n",
    "from flask import Flask\n",
    "app = Flask(__name__)\n",
    "@app.route('/')\n",
    "def index():\n",
    "    return 'Hello World'\n",
    "app.run()"
   ]
  },
  {
   "cell_type": "markdown",
   "metadata": {},
   "source": [
    "### 简析\n",
    "1. 从flask库中导入Flask类; 该类的实例极为WSGI应用程序; WSGI, Python Web Server Gateway Interface, Python定制的通用Web接口规范; \n",
    "2. <code>app = Flask(__name__);</code>; 创建了Flask类实例, 第一个参数是module或Package名称, 此处为单一module, 故应使用<code>__name</code>; \n",
    "3. <code>@app.route('/')</code>; 使用<code>route()</code>装饰器定义URL路径; \n",
    "4. 每个路由装饰器都会包含一个函数(示例中的<code>index()</code>函数), 该函数返回接口响应信息;\n",
    "5. <code>run()</code>函数运行本地Flask的web应用."
   ]
  },
  {
   "cell_type": "markdown",
   "metadata": {},
   "source": [
    "### Advance\n",
    "上例仅返回了字符串\"Hello World\", 返回体为 Content-Type: text/html; 而实际应用中, REST服务需满足如下三点:\n",
    "\n",
    "- 返回json结构的数据\n",
    "- 动态路由, 即给url添加变量部分\n",
    "- 增删改查的使用, 如PUT/DELETE/POST和GET等"
   ]
  },
  {
   "cell_type": "code",
   "execution_count": 2,
   "metadata": {},
   "outputs": [
    {
     "name": "stdout",
     "output_type": "stream",
     "text": [
      " * Serving Flask app \"__main__\" (lazy loading)\n",
      " * Environment: production\n",
      "   WARNING: Do not use the development server in a production environment.\n",
      "   Use a production WSGI server instead.\n",
      " * Debug mode: off\n"
     ]
    },
    {
     "name": "stderr",
     "output_type": "stream",
     "text": [
      " * Running on http://127.0.0.1:5000/ (Press CTRL+C to quit)\n",
      "127.0.0.1 - - [19/Jun/2019 11:40:26] \"GET / HTTP/1.1\" 200 -\n"
     ]
    }
   ],
   "source": [
    "#!/usr/bin/env python3\n",
    "\n",
    "from flask import Flask, jsonify\n",
    "\n",
    "app = Flask(__name__)\n",
    "\n",
    "@app.route('/')\n",
    "def index():\n",
    "    # 返回json格式数据\n",
    "    return jsonify({'msg': 'Hello World!'})\n",
    "\n",
    "app.run()"
   ]
  },
  {
   "cell_type": "markdown",
   "metadata": {},
   "source": [
    "#### 动态路由\n",
    "要给URL添加变量部分, 可以把这些特殊的字段标记为<code><variable_name></code>, 并将其作为命名参数传递到函数, 此外, 规则可以用<code><converter:variable_name></code>指定一个可选的转换器.\n",
    "    \n",
    "converter | 描述\n",
    "---- | ----\n",
    "int | 接受整型\n",
    "float | 接受浮点型\n",
    "path | 默认, 字符串"
   ]
  },
  {
   "cell_type": "code",
   "execution_count": 1,
   "metadata": {},
   "outputs": [
    {
     "name": "stdout",
     "output_type": "stream",
     "text": [
      " * Serving Flask app \"__main__\" (lazy loading)\n",
      " * Environment: production\n",
      "   WARNING: Do not use the development server in a production environment.\n",
      "   Use a production WSGI server instead.\n",
      " * Debug mode: off\n"
     ]
    },
    {
     "name": "stderr",
     "output_type": "stream",
     "text": [
      " * Running on http://127.0.0.1:5000/ (Press CTRL+C to quit)\n",
      "127.0.0.1 - - [19/Jun/2019 16:04:36] \"GET /1 HTTP/1.1\" 200 -\n",
      "127.0.0.1 - - [19/Jun/2019 16:04:49] \"GET /2 HTTP/1.1\" 200 -\n"
     ]
    }
   ],
   "source": [
    "#!/usr/bin/env python3\n",
    "\n",
    "from flask import Flask, jsonify\n",
    "\n",
    "app = Flask(__name__)\n",
    "\n",
    "tasks = [\n",
    "    {\n",
    "        'id': 1,\n",
    "        'title': 'Learn Python',\n",
    "        'description': 'Need to find a good Python tutorial on the web', \n",
    "        'done': False\n",
    "    },\n",
    "    {\n",
    "        'id': 2,\n",
    "        'title': 'Learn Flask',\n",
    "        'description': 'Simple Demo', \n",
    "        'done': False\n",
    "    }\n",
    "]\n",
    "\n",
    "@app.route('/<int:task_id>', methods=['GET'])\n",
    "def index(task_id):         \n",
    "    return jsonify({'task': tasks[task_id-1]})\n",
    "\n",
    "if __name__ == '__main__':\n",
    "    # 开启debug模式\n",
    "    # app.run(debug=True) jupyter模式下, 开启debug模式启动报错.\n",
    "    app.run()"
   ]
  },
  {
   "cell_type": "code",
   "execution_count": 10,
   "metadata": {},
   "outputs": [
    {
     "name": "stdout",
     "output_type": "stream",
     "text": [
      " * Serving Flask app \"__main__\" (lazy loading)\n",
      " * Environment: production\n",
      "   WARNING: Do not use the development server in a production environment.\n",
      "   Use a production WSGI server instead.\n",
      " * Debug mode: off\n"
     ]
    },
    {
     "name": "stderr",
     "output_type": "stream",
     "text": [
      "127.0.0.1 - - [19/Jun/2019 14:18:05] \"GET /task HTTP/1.1\" 200 -\n",
      "127.0.0.1 - - [19/Jun/2019 14:19:02] \"GET / HTTP/1.1\" 404 -\n",
      "127.0.0.1 - - [19/Jun/2019 14:19:33] \"GET /task HTTP/1.1\" 200 -\n",
      "127.0.0.1 - - [19/Jun/2019 14:19:33] \"GET /favicon.ico HTTP/1.1\" 404 -\n"
     ]
    }
   ],
   "source": [
    "#!/usr/bin/env python3\n",
    "\n",
    "from flask import Flask, jsonify, request\n",
    "\n",
    "\n",
    "app = Flask(__name__)\n",
    "\n",
    "tasks = [\"Hello World\"]\n",
    "\n",
    "# 查\n",
    "@app.route('/task', methods=['GET'])\n",
    "def getTask():\n",
    "    return jsonify({'tasks': tasks})\n",
    "\n",
    "# 增\n",
    "@app.route('/task', methods=['POST'])\n",
    "def postTask():\n",
    "    # 使用 request.json, 请求头需加 Content-Type: application/json\n",
    "    if not request.json or not 'task' in request.json:\n",
    "        return jsonify({'err': 'miss task'})\n",
    "    tasks.append(request.json['task'])\n",
    "    return jsonify({'tasks': tasks})\n",
    "\n",
    "# 改\n",
    "@app.route('/task', methods=['PUT'])\n",
    "def resetTask():\n",
    "    if not request.json or not 'task' in request.json:\n",
    "        return jsonify({'err': 'miss task'})\n",
    "    tasks[:] = []\n",
    "    tasks.append(request.json['task'])\n",
    "    return jsonify({'tasks': tasks})\n",
    "\n",
    "# 删\n",
    "@app.route('/task', methods=['DELETE'])\n",
    "def deleteTask():\n",
    "    tasks[:] = []\n",
    "    return jsonify({'tasks': tasks})\n",
    "\n",
    "if __name__ == '__main__':\n",
    "    # 操作系统监听所有公网ip\n",
    "    app.run(host='0.0.0.0')"
   ]
  },
  {
   "cell_type": "code",
   "execution_count": null,
   "metadata": {},
   "outputs": [],
   "source": []
  }
 ],
 "metadata": {
  "kernelspec": {
   "display_name": "Python 3",
   "language": "python",
   "name": "python3"
  },
  "language_info": {
   "codemirror_mode": {
    "name": "ipython",
    "version": 3
   },
   "file_extension": ".py",
   "mimetype": "text/x-python",
   "name": "python",
   "nbconvert_exporter": "python",
   "pygments_lexer": "ipython3",
   "version": "3.7.3"
  }
 },
 "nbformat": 4,
 "nbformat_minor": 2
}

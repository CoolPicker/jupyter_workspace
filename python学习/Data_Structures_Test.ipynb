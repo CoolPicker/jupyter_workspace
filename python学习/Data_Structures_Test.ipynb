{
 "cells": [
  {
   "cell_type": "markdown",
   "metadata": {},
   "source": [
    "# Python数据结构"
   ]
  },
  {
   "cell_type": "markdown",
   "metadata": {},
   "source": [
    "基于Python Tutorial 3.7.3详述Python数据结构."
   ]
  },
  {
   "cell_type": "markdown",
   "metadata": {},
   "source": [
    "## List - 列表"
   ]
  },
  {
   "cell_type": "markdown",
   "metadata": {},
   "source": [
    "append(x) - 追加在列表末尾, 相当于 a[len(a):] = [x]\n",
    "\n",
    "extend(iterable) - 参数集合追加原列表末尾, 相当于 a[len(a):] = iterable\n",
    "\n",
    "insert(i, x) - 指定索引位置插入\n",
    "\n",
    "remove(x) - 删除指定元素, 空列表报错 ValueError\n",
    "\n",
    "pop([i]) - 指定索引位置抛出, 删除并返回元素, 默认会列表最后一个元素\n",
    "\n",
    "clear() - 删除所有元素, 相当于 del a[:]\n",
    "\n",
    "index(x[,start[,end]]) - 获取某元素列表第一个索引, 不存在则报错 ValueError\n",
    "\n",
    "count(x) - 获取某元素在列表中个数\n",
    "\n",
    "sort(key=None, reverse=False) - 排序, 可使用 sorted()自定义排序规则\n",
    "\n",
    "reverse() - 反转列表元素\n",
    "\n",
    "copy() - 浅复制, 相当于 a[:], 常用于迭代时操作列表的情况\n",
    "\n",
    "insert/remove/sort, 默认返回为 None. Python中所有可变数据结构的设计原则"
   ]
  },
  {
   "cell_type": "code",
   "execution_count": 28,
   "metadata": {},
   "outputs": [
    {
     "name": "stdout",
     "output_type": "stream",
     "text": [
      "4\n",
      "2\n",
      "[1, 2, 4, 3, 4, 5, 7]\n",
      "[1, 2, 4, 5, 7]\n",
      "[]\n"
     ]
    },
    {
     "ename": "NameError",
     "evalue": "name 'a' is not defined",
     "output_type": "error",
     "traceback": [
      "\u001b[0;31m---------------------------------------------------------------------------\u001b[0m",
      "\u001b[0;31mNameError\u001b[0m                                 Traceback (most recent call last)",
      "\u001b[0;32m<ipython-input-28-299ca94a262e>\u001b[0m in \u001b[0;36m<module>\u001b[0;34m\u001b[0m\n\u001b[1;32m     10\u001b[0m \u001b[0mprint\u001b[0m\u001b[0;34m(\u001b[0m\u001b[0ma\u001b[0m\u001b[0;34m)\u001b[0m\u001b[0;34m\u001b[0m\u001b[0;34m\u001b[0m\u001b[0m\n\u001b[1;32m     11\u001b[0m \u001b[0;32mdel\u001b[0m \u001b[0ma\u001b[0m\u001b[0;34m\u001b[0m\u001b[0;34m\u001b[0m\u001b[0m\n\u001b[0;32m---> 12\u001b[0;31m \u001b[0mprint\u001b[0m\u001b[0;34m(\u001b[0m\u001b[0ma\u001b[0m\u001b[0;34m)\u001b[0m\u001b[0;34m\u001b[0m\u001b[0;34m\u001b[0m\u001b[0m\n\u001b[0m\u001b[1;32m     13\u001b[0m \u001b[0mprint\u001b[0m\u001b[0;34m(\u001b[0m\u001b[0ma\u001b[0m\u001b[0;34m.\u001b[0m\u001b[0mindex\u001b[0m\u001b[0;34m(\u001b[0m\u001b[0;36m1\u001b[0m\u001b[0;34m)\u001b[0m\u001b[0;34m)\u001b[0m\u001b[0;34m\u001b[0m\u001b[0;34m\u001b[0m\u001b[0m\n",
      "\u001b[0;31mNameError\u001b[0m: name 'a' is not defined"
     ]
    }
   ],
   "source": [
    "a = [1, 2, 3, 4, 3, 4, 5, 7]\n",
    "print(a.index(3, 3, 5)) # 指定区间, 某元素索引位置. 注意索引仍是相对于原列表\n",
    "print(a.count(3))\n",
    "a.remove(3) # 根据 value 删除 list-item\n",
    "print(a)\n",
    "# del statement\n",
    "del a[2:4] # 根据 index 删除 list-item\n",
    "print(a)\n",
    "del a[:]\n",
    "print(a)\n",
    "del a\n",
    "print(a)\n",
    "print(a.index(1))"
   ]
  },
  {
   "cell_type": "markdown",
   "metadata": {},
   "source": [
    "### 列表用作栈(后进先出) - append(x) + pop()"
   ]
  },
  {
   "cell_type": "markdown",
   "metadata": {},
   "source": [
    "### 列表用作队列(先进先出) - collections.deque"
   ]
  },
  {
   "cell_type": "markdown",
   "metadata": {},
   "source": [
    "list列表末尾追加和弹出很快,但从列表的开头进行插入/弹出却很慢,因为所有的元素都将移动.这是可以使用collections.deque,设计为快速追加和从两端弹出的队列."
   ]
  },
  {
   "cell_type": "code",
   "execution_count": 15,
   "metadata": {},
   "outputs": [
    {
     "name": "stdout",
     "output_type": "stream",
     "text": [
      "Jerry\n",
      "deque(['Tom', 'Lincoln', 'Ring', 'Machel'])\n"
     ]
    }
   ],
   "source": [
    "from collections import deque\n",
    "queue = deque(['Jerry', 'Tom', 'Lincoln', 'Ring'])\n",
    "queue.append('Machel')\n",
    "print(queue.popleft())\n",
    "print(queue)"
   ]
  },
  {
   "cell_type": "markdown",
   "metadata": {},
   "source": [
    "### List Comprehensions"
   ]
  },
  {
   "cell_type": "code",
   "execution_count": 18,
   "metadata": {},
   "outputs": [
    {
     "name": "stdout",
     "output_type": "stream",
     "text": [
      "[0, 1, 4, 9, 16, 25, 36, 49, 64, 81]\n",
      "[0, 1, 4, 9, 16, 25, 36, 49, 64, 81]\n",
      "[0, 1, 4, 9, 16, 25, 36, 49, 64, 81]\n"
     ]
    }
   ],
   "source": [
    "squares1 = []\n",
    "for x in range(10):\n",
    "    squares1.append(x ** 2)\n",
    "print(squares1)\n",
    "squares2 = list(map(lambda x : x ** 2, range(10)))\n",
    "print(squares2)\n",
    "squares3 = [x **2 for x in range(10)]\n",
    "print(squares3)"
   ]
  },
  {
   "cell_type": "code",
   "execution_count": 19,
   "metadata": {},
   "outputs": [
    {
     "name": "stdout",
     "output_type": "stream",
     "text": [
      "[(1, 3), (1, 4), (2, 3), (2, 1), (2, 4), (3, 1), (3, 4)]\n"
     ]
    }
   ],
   "source": [
    "listcomp = [(x, y) for x in [1, 2, 3] for y in [3, 1, 4] if x!=y]\n",
    "print(listcomp)"
   ]
  },
  {
   "cell_type": "code",
   "execution_count": 20,
   "metadata": {},
   "outputs": [
    {
     "name": "stdout",
     "output_type": "stream",
     "text": [
      "[(1, 3), (1, 4), (2, 3), (2, 1), (2, 4), (3, 1), (3, 4)]\n"
     ]
    }
   ],
   "source": [
    "listcomp = []\n",
    "for x in [1, 2, 3]:\n",
    "    for y in [3, 1, 4]:\n",
    "        if x != y :\n",
    "            listcomp.append((x, y))\n",
    "print(listcomp)"
   ]
  },
  {
   "cell_type": "code",
   "execution_count": 21,
   "metadata": {},
   "outputs": [
    {
     "name": "stdout",
     "output_type": "stream",
     "text": [
      "[-8, -4, 0, 4, 8]\n",
      "[0, 2, 4]\n",
      "[4, 2, 0, 2, 4]\n",
      "['banana', 'loganberry', 'passion fruit']\n",
      "[(0, 0), (1, 1), (2, 4), (3, 9), (4, 16), (5, 25)]\n",
      "[1, 4, 9, 16, 25, 36, 49, 64, 81]\n"
     ]
    }
   ],
   "source": [
    "vec = [-4, -2, 0, 2, 4]\n",
    "double_vec = [x*2 for x in vec]\n",
    "filter_negative_vec = [x for x in vec if x >= 0]\n",
    "abs_vec = [abs(x) for x in vec]\n",
    "freshfruit = ['  banana', '  loganberry ', 'passion fruit  ']\n",
    "strip_fresh_fruit = [x.strip() for x in freshfruit]\n",
    "number_square = [(x, x**2) for x in range(6)]\n",
    "vec = [[1,2,3], [4,5,6], [7,8,9]]\n",
    "vec_item_square = [x**2 for items in vec for x in items]\n",
    "print(double_vec)\n",
    "print(filter_negative_vec)\n",
    "print(abs_vec)\n",
    "print(strip_fresh_fruit)\n",
    "print(number_square)\n",
    "print(vec_item_square)"
   ]
  },
  {
   "cell_type": "code",
   "execution_count": 22,
   "metadata": {},
   "outputs": [
    {
     "name": "stdout",
     "output_type": "stream",
     "text": [
      "['3.1', '3.14', '3.142', '3.1416', '3.14159']\n"
     ]
    }
   ],
   "source": [
    "from math import pi\n",
    "pi_str = [str(round(pi, x)) for x in range(1, 6)]\n",
    "print(pi_str)"
   ]
  },
  {
   "cell_type": "markdown",
   "metadata": {},
   "source": [
    "### Nested List Comprehensions"
   ]
  },
  {
   "cell_type": "code",
   "execution_count": 25,
   "metadata": {},
   "outputs": [
    {
     "name": "stdout",
     "output_type": "stream",
     "text": [
      "[[1, 5, 9], [2, 6, 10], [3, 7, 11], [4, 8, 12]]\n",
      "[[1, 5, 9], [2, 6, 10], [3, 7, 11], [4, 8, 12]]\n",
      "[(1, 5, 9), (2, 6, 10), (3, 7, 11), (4, 8, 12)]\n"
     ]
    }
   ],
   "source": [
    "matrix = [\n",
    "    [1, 2, 3, 4],\n",
    "    [5, 6, 7, 8],\n",
    "    [9, 10, 11, 12]\n",
    "]\n",
    "transpose_matrix = [[row[i] for row in matrix] for i in range(4)]\n",
    "print(transpose_matrix)\n",
    "transposed = []\n",
    "for i in range(4):\n",
    "    transposed.append([row[i] for row in matrix])\n",
    "print(transposed)\n",
    "zip_matrix = list(zip(*matrix)) # zip() built-in method 内置函数\n",
    "print(zip_matrix)"
   ]
  },
  {
   "cell_type": "markdown",
   "metadata": {},
   "source": [
    "## Tuples and Sequences"
   ]
  },
  {
   "cell_type": "markdown",
   "metadata": {},
   "source": [
    "Tuples may be nested.\n",
    "\n",
    "Tuples are immutable. Just like Enumeration"
   ]
  },
  {
   "cell_type": "code",
   "execution_count": 29,
   "metadata": {},
   "outputs": [
    {
     "name": "stdout",
     "output_type": "stream",
     "text": [
      "12345\n",
      "(12345, 24567, 45633)\n"
     ]
    }
   ],
   "source": [
    "t = 12345, 24567, 45633\n",
    "print(t[0])\n",
    "print(t)"
   ]
  },
  {
   "cell_type": "code",
   "execution_count": 36,
   "metadata": {},
   "outputs": [
    {
     "name": "stdout",
     "output_type": "stream",
     "text": [
      "([6, 2, 3], [2, 4, 6])\n"
     ]
    },
    {
     "ename": "TypeError",
     "evalue": "'tuple' object does not support item assignment",
     "output_type": "error",
     "traceback": [
      "\u001b[0;31m---------------------------------------------------------------------------\u001b[0m",
      "\u001b[0;31mTypeError\u001b[0m                                 Traceback (most recent call last)",
      "\u001b[0;32m<ipython-input-36-ecbf5492aa17>\u001b[0m in \u001b[0;36m<module>\u001b[0;34m\u001b[0m\n\u001b[1;32m      2\u001b[0m \u001b[0mt\u001b[0m\u001b[0;34m[\u001b[0m\u001b[0;36m0\u001b[0m\u001b[0;34m]\u001b[0m\u001b[0;34m[\u001b[0m\u001b[0;36m0\u001b[0m\u001b[0;34m]\u001b[0m \u001b[0;34m=\u001b[0m \u001b[0;36m6\u001b[0m \u001b[0;31m# tuple为 immutable, 但其 item 为list - mutable\u001b[0m\u001b[0;34m\u001b[0m\u001b[0;34m\u001b[0m\u001b[0m\n\u001b[1;32m      3\u001b[0m \u001b[0mprint\u001b[0m\u001b[0;34m(\u001b[0m\u001b[0mt\u001b[0m\u001b[0;34m)\u001b[0m\u001b[0;34m\u001b[0m\u001b[0;34m\u001b[0m\u001b[0m\n\u001b[0;32m----> 4\u001b[0;31m \u001b[0mt\u001b[0m\u001b[0;34m[\u001b[0m\u001b[0;36m1\u001b[0m\u001b[0;34m]\u001b[0m \u001b[0;34m=\u001b[0m \u001b[0;34m[\u001b[0m\u001b[0;36m2\u001b[0m\u001b[0;34m,\u001b[0m \u001b[0;36m8\u001b[0m\u001b[0;34m,\u001b[0m \u001b[0;36m64\u001b[0m\u001b[0;34m]\u001b[0m \u001b[0;31m# tuple 为 immutable, 不可变对象, 报错TypesError\u001b[0m\u001b[0;34m\u001b[0m\u001b[0;34m\u001b[0m\u001b[0m\n\u001b[0m\u001b[1;32m      5\u001b[0m \u001b[0mprint\u001b[0m\u001b[0;34m(\u001b[0m\u001b[0mt\u001b[0m\u001b[0;34m)\u001b[0m\u001b[0;34m\u001b[0m\u001b[0;34m\u001b[0m\u001b[0m\n",
      "\u001b[0;31mTypeError\u001b[0m: 'tuple' object does not support item assignment"
     ]
    }
   ],
   "source": [
    "t = ([1, 2, 3], [2, 4, 6]) # () 亦可省略\n",
    "t[0][0] = 6 # tuple为 immutable, 但其 item 为list - mutable\n",
    "print(t)\n",
    "t[1] = [2, 8, 64] # tuple 为 immutable, 不可变对象, 报错TypesError\n",
    "print(t)"
   ]
  },
  {
   "cell_type": "code",
   "execution_count": 48,
   "metadata": {},
   "outputs": [
    {
     "name": "stdout",
     "output_type": "stream",
     "text": [
      "0\n",
      "3\n",
      "1\n",
      "<class 'str'>\n",
      "<class 'tuple'>\n",
      "123\n",
      "345\n",
      "Hello\n"
     ]
    }
   ],
   "source": [
    "empty = () # empty tuple\n",
    "error_example = ('tom') # str \n",
    "singleton = ('tom',) # tuple with one item\n",
    "print(len(empty))\n",
    "print(len(error_example))\n",
    "print(len(singleton))\n",
    "print(type(error_example))\n",
    "print(type(singleton))\n",
    "multiple_tuple = 123, 345, 'Hello' # 打包\n",
    "x, y, z = multiple_tuple # 解包 - 注意匹配元组长度\n",
    "print(x)\n",
    "print(y)\n",
    "print(z)"
   ]
  },
  {
   "cell_type": "markdown",
   "metadata": {},
   "source": [
    "## Sets 集合"
   ]
  },
  {
   "cell_type": "markdown",
   "metadata": {},
   "source": [
    "Set集合, 无序, 去重, 支持数学运算. 注意:空集合,需使用set()声明."
   ]
  },
  {
   "cell_type": "code",
   "execution_count": 3,
   "metadata": {
    "scrolled": true
   },
   "outputs": [
    {
     "data": {
      "image/png": "[encoded data removed]",
      "text/plain": [
       "<Figure size 432x288 with 1 Axes>"
      ]
     },
     "metadata": {},
     "output_type": "display_data"
    }
   ],
   "source": [
    "import sys\n",
    "# 加载自定义文件路径下的包和模块到python的sys.path\n",
    "sys.path.append('/home/lab/anaconda3/lib/python3.7/site-packages')\n",
    "import matplotlib.pyplot as plt\n",
    "from matplotlib_venn import venn2\n",
    "\n",
    "admins = {'Moose', 'Joker', 'Joker'}\n",
    "moderators = {'Ann', 'Chris', 'Jane', 'Moose', 'Zero'}\n",
    "\n",
    "v = venn2(subsets=(admins, moderators), set_labels=('admins', 'moderators'))\n",
    "v.get_label_by_id('11').set_text('\\n'.join(admins & moderators))\n",
    "v.get_label_by_id('10').set_text('\\n'.join(admins - moderators))\n",
    "v.get_label_by_id('01').set_text('\\n'.join(moderators - admins))\n",
    "\n",
    "plt.show() # 饼状图 展示交集/差集"
   ]
  },
  {
   "cell_type": "code",
   "execution_count": 3,
   "metadata": {},
   "outputs": [
    {
     "name": "stdout",
     "output_type": "stream",
     "text": [
      "<class 'set'>\n",
      "<class 'dict'>\n"
     ]
    }
   ],
   "source": [
    "curly_braces_dict = {} # dict\n",
    "curly_braces_set = set() # empty set\n",
    "print(type(curly_braces_set))\n",
    "print(type(curly_braces_dict))"
   ]
  },
  {
   "cell_type": "markdown",
   "metadata": {},
   "source": [
    "Similarly to list comprehensions, set comprehensions are also supported:"
   ]
  },
  {
   "cell_type": "code",
   "execution_count": 4,
   "metadata": {},
   "outputs": [
    {
     "name": "stdout",
     "output_type": "stream",
     "text": [
      "{'d', 'r'}\n"
     ]
    }
   ],
   "source": [
    "a = {x for x in 'abracadabra' if x not in 'abc'}\n",
    "print(a)"
   ]
  },
  {
   "cell_type": "markdown",
   "metadata": {},
   "source": [
    "## Dictionaries - 字典"
   ]
  },
  {
   "cell_type": "markdown",
   "metadata": {},
   "source": [
    "不同于序列以数字为索引, dic以不可变类型组成的keys为索引.\n",
    "\n",
    "dictionary == key:value(键值对)组成的set(集合),且keys为set,即key具有唯一性.\n",
    "\n",
    "list(d)/sorted(d) - 返回keys组成的list, 只是sorted(d)是有序的."
   ]
  },
  {
   "cell_type": "code",
   "execution_count": 5,
   "metadata": {},
   "outputs": [
    {
     "name": "stdout",
     "output_type": "stream",
     "text": [
      "{'jack': 4098, 'sape': 4139, 'guido': 4127}\n",
      "4098\n",
      "{'jack': 4098, 'guido': 4127, 'irv': 4217}\n",
      "['jack', 'guido', 'irv']\n",
      "['guido', 'irv', 'jack']\n",
      "True\n",
      "False\n",
      "{'sape': 4139, 'guido': 4127, 'jack': 4098}\n",
      "{1: 1, 2: 4, 3: 9, 4: 16}\n",
      "{'sape': 4139, 'guido': 4127, 'jack': 4098}\n"
     ]
    }
   ],
   "source": [
    "tel = {'jack': 4098, 'sape': 4139}\n",
    "tel['guido'] = 4127 # 新增指定key的key:value\n",
    "print(tel)\n",
    "print(tel['jack'])\n",
    "del tel['sape'] # 删除指定key的key:value\n",
    "tel['irv'] = 4217\n",
    "print(tel)\n",
    "print(list(tel)) # keys组成的list\n",
    "print(sorted(tel)) # keys组成的排序后的list\n",
    "print('guido' in tel) # dic是否包含指定key\n",
    "print('jack' not in tel)\n",
    "# key-value 序列转dic\n",
    "dict_test = dict([('sape', 4139), ('guido', 4127), ('jack', 4098)])\n",
    "print(dict_test)\n",
    "# dic comprehensions is useful too\n",
    "print({x: x**2 for x in range(1, 5)})\n",
    "# 使用关键词参数指定key-value,转换dic\n",
    "print(dict(sape=4139, guido=4127, jack=4098)) "
   ]
  },
  {
   "cell_type": "markdown",
   "metadata": {},
   "source": [
    "## Looping Techniques - 循环技术"
   ]
  },
  {
   "cell_type": "code",
   "execution_count": 6,
   "metadata": {},
   "outputs": [
    {
     "name": "stdout",
     "output_type": "stream",
     "text": [
      "gallahad the pure\n",
      "robin the brave\n"
     ]
    }
   ],
   "source": [
    "# dict - 使用items(),同时检索key/value\n",
    "knights = {'gallahad': 'the pure', 'robin': 'the brave'}\n",
    "for k, v in knights.items():\n",
    "    print(k, v)"
   ]
  },
  {
   "cell_type": "code",
   "execution_count": 7,
   "metadata": {},
   "outputs": [
    {
     "name": "stdout",
     "output_type": "stream",
     "text": [
      "0 tic\n",
      "1 tac\n",
      "2 toe\n"
     ]
    }
   ],
   "source": [
    "sequence = ['tic', 'tac', 'toe']\n",
    "# 迭代序列时, 使用enumerate()同时检索index/value *****\n",
    "for i, v in enumerate(sequence):\n",
    "    print(i, v)"
   ]
  },
  {
   "cell_type": "code",
   "execution_count": 8,
   "metadata": {},
   "outputs": [
    {
     "name": "stdout",
     "output_type": "stream",
     "text": [
      "What is your name?  It is lancelot.\n",
      "What is your quest?  It is the holy grail.\n",
      "What is your favorite color?  It is blue.\n"
     ]
    }
   ],
   "source": [
    "questions = ['name', 'quest', 'favorite color']\n",
    "answers = ['lancelot', 'the holy grail', 'blue']\n",
    "# 两个或两个以上序列, 组对循环使用zip()\n",
    "for q, a in zip(questions, answers):\n",
    "    print('What is your {0}?  It is {1}.'.format(q, a))"
   ]
  },
  {
   "cell_type": "code",
   "execution_count": 10,
   "metadata": {},
   "outputs": [
    {
     "name": "stdout",
     "output_type": "stream",
     "text": [
      "7\n",
      "5\n",
      "3\n",
      "1\n"
     ]
    }
   ],
   "source": [
    "# 逆序迭代循环,使用reversed()\n",
    "for i in reversed(range(1, 8, 2)):\n",
    "    print(i)"
   ]
  },
  {
   "cell_type": "code",
   "execution_count": 11,
   "metadata": {},
   "outputs": [
    {
     "name": "stdout",
     "output_type": "stream",
     "text": [
      "apple\n",
      "banana\n",
      "orange\n",
      "pear\n"
     ]
    }
   ],
   "source": [
    "# 迭代序列时返回有序唯一元素,使用针对set的sorted()方法\n",
    "basket = ['apple', 'orange', 'apple', 'pear', 'orange', 'banana']\n",
    "for f in sorted(set(basket)):\n",
    "    print(f)"
   ]
  },
  {
   "cell_type": "code",
   "execution_count": 13,
   "metadata": {},
   "outputs": [
    {
     "name": "stdout",
     "output_type": "stream",
     "text": [
      "[56.2, 51.7, 55.3, 52.5, 47.8]\n",
      "[56.2, 51.7, 55.3, 52.5, 47.8]\n"
     ]
    }
   ],
   "source": [
    "# 循环试图更改一个序列时,更安全/简便的方式是创建新的序列,或者循环序列的浅复制\n",
    "# a[:] / copy() 都可完成浅复制, 官方推荐新建序列去接受\n",
    "import math\n",
    "raw_data = [56.2, float('NaN'), 51.7, 55.3, 52.5, float('NaN'), 47.8]\n",
    "filtered_data = []\n",
    "for value in raw_data:\n",
    "    if not math.isnan(value):\n",
    "        filtered_data.append(value)\n",
    "print(filtered_data)\n",
    "# list使用filter()配合lambda表达式处理元素的过滤\n",
    "filter_data = list(filter(lambda x: not math.isnan(x), raw_data))\n",
    "print(filter_data)"
   ]
  },
  {
   "cell_type": "markdown",
   "metadata": {},
   "source": [
    "## More on Conditions & Comparing Sequences & Other Types"
   ]
  },
  {
   "cell_type": "code",
   "execution_count": 18,
   "metadata": {},
   "outputs": [
    {
     "name": "stdout",
     "output_type": "stream",
     "text": [
      "False\n",
      "True\n",
      "Trondheim\n"
     ]
    }
   ],
   "source": [
    "# 数值运算符优先级大于比较运算符\n",
    "# in/not in 判断某值是否存在于序列 \n",
    "# is/is not 比较两个对象类型是否相同,多用于list一类的可变类型对象\n",
    "# 比较运算符可链式(chain)编程\n",
    "# condition operators priority: numerical > comparison > boolean\n",
    "# Boolean Operator : not > and > or\n",
    "print(not 1 + 3 in [4, 5])\n",
    "print(not 4 + 9 < 11)\n",
    "# 可将比较结果赋值给某个变量\n",
    "string1, string2, string3 = '', 'Trondheim', 'Hammer Dance'\n",
    "non_null = string1 or string2 or string3\n",
    "print(non_null)"
   ]
  },
  {
   "cell_type": "code",
   "execution_count": 21,
   "metadata": {},
   "outputs": [
    {
     "ename": "SyntaxError",
     "evalue": "invalid syntax (<ipython-input-21-fc99fbd80dbe>, line 2)",
     "output_type": "error",
     "traceback": [
      "\u001b[0;36m  File \u001b[0;32m\"<ipython-input-21-fc99fbd80dbe>\"\u001b[0;36m, line \u001b[0;32m2\u001b[0m\n\u001b[0;31m    if (a = 66) > 11:\u001b[0m\n\u001b[0m          ^\u001b[0m\n\u001b[0;31mSyntaxError\u001b[0m\u001b[0;31m:\u001b[0m invalid syntax\n"
     ]
    }
   ],
   "source": [
    "a = 22\n",
    "# 注意: python中赋值操作不能出现在表达式中, 同种情况在C/Java是可行的\n",
    "if (a = 66) > 11:\n",
    "    print(a)"
   ]
  },
  {
   "cell_type": "code",
   "execution_count": 24,
   "metadata": {},
   "outputs": [
    {
     "name": "stdout",
     "output_type": "stream",
     "text": [
      "True\n",
      "True\n",
      "True\n",
      "True\n",
      "True\n",
      "True\n",
      "True\n"
     ]
    }
   ],
   "source": [
    "# 序列比较时,按照编辑顺序一一比较\n",
    "print((1, 2, 3)              < (1, 2, 4))\n",
    "print([1, 2, 3]              < [1, 2, 4])\n",
    "print('ABC' < 'C' < 'Pascal' < 'Python') # A < C < P then Pa < Py\n",
    "print((1, 2, 3, 4)           < (1, 2, 4))\n",
    "print((1, 2)                 < (1, 2, -1)) # 前一序列先没牌\n",
    "print((1, 2, 3)             == (1.0, 2.0, 3.0))\n",
    "print((1, 2, ('aa', 'ab'))   < (1, 2, ('abc', 'a'), 4))\n",
    "# Note: ('aa', 'ab') < ('abc', 'a')"
   ]
  }
 ],
 "metadata": {
  "kernelspec": {
   "display_name": "Python 3",
   "language": "python",
   "name": "python3"
  },
  "language_info": {
   "codemirror_mode": {
    "name": "ipython",
    "version": 3
   },
   "file_extension": ".py",
   "mimetype": "text/x-python",
   "name": "python",
   "nbconvert_exporter": "python",
   "pygments_lexer": "ipython3",
   "version": "3.7.3"
  }
 },
 "nbformat": 4,
 "nbformat_minor": 2
}
